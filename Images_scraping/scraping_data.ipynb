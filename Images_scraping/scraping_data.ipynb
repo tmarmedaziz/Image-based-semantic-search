{
  "cells": [
    {
      "cell_type": "code",
      "execution_count": null,
      "metadata": {
        "id": "RVcVmGyMHOtd"
      },
      "outputs": [],
      "source": [
        "!pip install selenium"
      ]
    },
    {
      "cell_type": "code",
      "execution_count": null,
      "metadata": {
        "colab": {
          "base_uri": "https://localhost:8080/"
        },
        "id": "LWM02xreVyHM",
        "outputId": "5f3a5dcf-8de0-48f0-819c-c118242d9eee"
      },
      "outputs": [
        {
          "name": "stdout",
          "output_type": "stream",
          "text": [
            "Looking in indexes: https://pypi.org/simple, https://us-python.pkg.dev/colab-wheels/public/simple/\n",
            "Requirement already satisfied: tqdm in /usr/local/lib/python3.7/dist-packages (4.64.0)\n"
          ]
        }
      ],
      "source": [
        "!pip install tqdm"
      ]
    },
    {
      "cell_type": "code",
      "execution_count": null,
      "metadata": {
        "id": "LsjcdU1CHvCo"
      },
      "outputs": [],
      "source": [
        "!apt-get update\n",
        "!apt install chromium-chromedriver\n",
        "!cp /usr/lib/chromium-browser/chromedriver /usr/bin"
      ]
    },
    {
      "cell_type": "code",
      "execution_count": null,
      "metadata": {
        "id": "pAR9wtLgnxld"
      },
      "outputs": [],
      "source": [
        "import imp\n",
        "from lib2to3.pgen2 import driver\n",
        "from sqlite3 import Time\n",
        "from time import sleep\n",
        "from selenium import webdriver\n",
        "from bs4 import BeautifulSoup\n",
        "import json\n",
        "import pandas as pd\n",
        "from tqdm import tqdm\n",
        "\n",
        "import requests"
      ]
    },
    {
      "cell_type": "code",
      "execution_count": null,
      "metadata": {
        "id": "1HS26YZUpAhL"
      },
      "outputs": [],
      "source": [
        "scrollnum = 100\n",
        "sleepTimer = 3\n",
        "chromeDriverPath = r\"C:\\Users\\moham\\Image-Based_Semantic_Search\\Images_scraping\\chromedriver.exe\"\n",
        "\n",
        "# choose the field of interest in scraping \n",
        "var = ['drink', 'soda', 'juice', 'drinkable', 'icecream', 'mokhito', 'smoothie']\n",
        "\n"
      ]
    },
    {
      "cell_type": "code",
      "execution_count": null,
      "metadata": {
        "id": "dfhlrB1IHZPY"
      },
      "outputs": [],
      "source": [
        "profiles = []\n",
        "image_links = {}\n",
        "for variable in var:\n",
        "    print(variable)\n",
        "    url = f'https://www.pinterest.fr/search/pins/?q={variable}'\n",
        "    options = webdriver.ChromeOptions()\n",
        "    options.add_experimental_option(\"excludeSwitches\", [\"enable-logging\"])\n",
        "    options = webdriver.ChromeOptions()\n",
        "    options.add_argument('--headless')\n",
        "    options.add_argument('--no-sandbox')\n",
        "    options.add_argument('--disable-dev-shm-usage')\n",
        "    driver = webdriver.Chrome(executable_path=chromeDriverPath,options=options)\n",
        "    driver.get(url)\n",
        "    \n",
        "    for _  in tqdm(range(1, scrollnum)):\n",
        "        driver.execute_script(\"window.scrollTo(1,100000)\")\n",
        "        print(\"scroll down\")\n",
        "        soup = BeautifulSoup(driver.page_source, 'html.parser')\n",
        "\n",
        "\n",
        "        # find profiles pictures to put them out of the dataset\n",
        "        listToStr = ' '.join([str(elem) for elem in soup.find_all(\"div\", {\"class\": \"Pj7 sLG XiG INd m1e\"})])\n",
        "\n",
        "        profile_pics = BeautifulSoup(listToStr, 'html.parser')\n",
        "        for prof in profile_pics.findAll('img'):\n",
        "            profiles.append(prof['src'])\n",
        "            # print(prof['src'])\n",
        "\n",
        "\n",
        "        # extract all images from the page\n",
        "        \n",
        "        for link in soup.findAll('img'):\n",
        "            \n",
        "            try:\n",
        "              image_links[link['src']] = link['alt']\n",
        "            except:\n",
        "              pass\n",
        "        \n",
        "        sleep(sleepTimer)\n",
        "    \n"
      ]
    },
    {
      "cell_type": "code",
      "execution_count": null,
      "metadata": {
        "id": "B01n0kvkHfv_"
      },
      "outputs": [],
      "source": [
        "with open('data.json', 'w') as fp:\n",
        "    json.dump(image_links, fp)"
      ]
    },
    {
      "cell_type": "code",
      "execution_count": null,
      "metadata": {
        "id": "FoAe4imuVJPU"
      },
      "outputs": [],
      "source": [
        "for item in profiles:\n",
        "    try:\n",
        "        del image_links[item]\n",
        "    except:\n",
        "        pass\n"
      ]
    },
    {
      "cell_type": "code",
      "execution_count": null,
      "metadata": {
        "id": "OfTAZe6IXJRs"
      },
      "outputs": [],
      "source": [
        "with open('data.json') as json_file:\n",
        "    data = json.load(json_file)"
      ]
    },
    {
      "cell_type": "code",
      "execution_count": null,
      "metadata": {
        "id": "0dqxdmanVDoe"
      },
      "outputs": [],
      "source": [
        "df = pd.DataFrame(list(data.items()), columns = ['image_link','image_description'])\n",
        "df.to_csv('scraped_data.csv')"
      ]
    },
    {
      "cell_type": "code",
      "execution_count": null,
      "metadata": {
        "id": "7H4ooqPWZMAH"
      },
      "outputs": [],
      "source": [
        "!mkdir images"
      ]
    },
    {
      "cell_type": "code",
      "execution_count": null,
      "metadata": {
        "colab": {
          "base_uri": "https://localhost:8080/",
          "height": 231
        },
        "id": "Q9vGc4pDZS2-",
        "outputId": "296ec789-69b0-459e-8ba6-226d740435f6"
      },
      "outputs": [
        {
          "data": {
            "text/html": [
              "\n",
              "  <div id=\"df-5b1fe26c-f49b-4758-b982-79f4d5a04ac5\">\n",
              "    <div class=\"colab-df-container\">\n",
              "      <div>\n",
              "<style scoped>\n",
              "    .dataframe tbody tr th:only-of-type {\n",
              "        vertical-align: middle;\n",
              "    }\n",
              "\n",
              "    .dataframe tbody tr th {\n",
              "        vertical-align: top;\n",
              "    }\n",
              "\n",
              "    .dataframe thead th {\n",
              "        text-align: right;\n",
              "    }\n",
              "</style>\n",
              "<table border=\"1\" class=\"dataframe\">\n",
              "  <thead>\n",
              "    <tr style=\"text-align: right;\">\n",
              "      <th></th>\n",
              "      <th>image_link</th>\n",
              "      <th>image_description</th>\n",
              "    </tr>\n",
              "  </thead>\n",
              "  <tbody>\n",
              "    <tr>\n",
              "      <th>0</th>\n",
              "      <td>https://i.pinimg.com/236x/d6/fa/05/d6fa05a7285...</td>\n",
              "      <td>Golden sparkling water  ✨</td>\n",
              "    </tr>\n",
              "    <tr>\n",
              "      <th>1</th>\n",
              "      <td>https://i.pinimg.com/236x/53/7f/7a/537f7a51a39...</td>\n",
              "      <td>Pop Fizz Clink | Natalie Grace Tatum | aesthet...</td>\n",
              "    </tr>\n",
              "    <tr>\n",
              "      <th>2</th>\n",
              "      <td>https://i.pinimg.com/236x/31/e6/e6/31e6e62befb...</td>\n",
              "      <td>The Best Virgin Strawberry Daiquiri You'll Eve...</td>\n",
              "    </tr>\n",
              "    <tr>\n",
              "      <th>3</th>\n",
              "      <td>https://i.pinimg.com/236x/15/5d/93/155d934d670...</td>\n",
              "      <td>Easy Piña Colada</td>\n",
              "    </tr>\n",
              "    <tr>\n",
              "      <th>4</th>\n",
              "      <td>https://i.pinimg.com/236x/e9/30/32/e93032193ac...</td>\n",
              "      <td>3-Ingredient Korean Strawberry Milk</td>\n",
              "    </tr>\n",
              "  </tbody>\n",
              "</table>\n",
              "</div>\n",
              "      <button class=\"colab-df-convert\" onclick=\"convertToInteractive('df-5b1fe26c-f49b-4758-b982-79f4d5a04ac5')\"\n",
              "              title=\"Convert this dataframe to an interactive table.\"\n",
              "              style=\"display:none;\">\n",
              "        \n",
              "  <svg xmlns=\"http://www.w3.org/2000/svg\" height=\"24px\"viewBox=\"0 0 24 24\"\n",
              "       width=\"24px\">\n",
              "    <path d=\"M0 0h24v24H0V0z\" fill=\"none\"/>\n",
              "    <path d=\"M18.56 5.44l.94 2.06.94-2.06 2.06-.94-2.06-.94-.94-2.06-.94 2.06-2.06.94zm-11 1L8.5 8.5l.94-2.06 2.06-.94-2.06-.94L8.5 2.5l-.94 2.06-2.06.94zm10 10l.94 2.06.94-2.06 2.06-.94-2.06-.94-.94-2.06-.94 2.06-2.06.94z\"/><path d=\"M17.41 7.96l-1.37-1.37c-.4-.4-.92-.59-1.43-.59-.52 0-1.04.2-1.43.59L10.3 9.45l-7.72 7.72c-.78.78-.78 2.05 0 2.83L4 21.41c.39.39.9.59 1.41.59.51 0 1.02-.2 1.41-.59l7.78-7.78 2.81-2.81c.8-.78.8-2.07 0-2.86zM5.41 20L4 18.59l7.72-7.72 1.47 1.35L5.41 20z\"/>\n",
              "  </svg>\n",
              "      </button>\n",
              "      \n",
              "  <style>\n",
              "    .colab-df-container {\n",
              "      display:flex;\n",
              "      flex-wrap:wrap;\n",
              "      gap: 12px;\n",
              "    }\n",
              "\n",
              "    .colab-df-convert {\n",
              "      background-color: #E8F0FE;\n",
              "      border: none;\n",
              "      border-radius: 50%;\n",
              "      cursor: pointer;\n",
              "      display: none;\n",
              "      fill: #1967D2;\n",
              "      height: 32px;\n",
              "      padding: 0 0 0 0;\n",
              "      width: 32px;\n",
              "    }\n",
              "\n",
              "    .colab-df-convert:hover {\n",
              "      background-color: #E2EBFA;\n",
              "      box-shadow: 0px 1px 2px rgba(60, 64, 67, 0.3), 0px 1px 3px 1px rgba(60, 64, 67, 0.15);\n",
              "      fill: #174EA6;\n",
              "    }\n",
              "\n",
              "    [theme=dark] .colab-df-convert {\n",
              "      background-color: #3B4455;\n",
              "      fill: #D2E3FC;\n",
              "    }\n",
              "\n",
              "    [theme=dark] .colab-df-convert:hover {\n",
              "      background-color: #434B5C;\n",
              "      box-shadow: 0px 1px 3px 1px rgba(0, 0, 0, 0.15);\n",
              "      filter: drop-shadow(0px 1px 2px rgba(0, 0, 0, 0.3));\n",
              "      fill: #FFFFFF;\n",
              "    }\n",
              "  </style>\n",
              "\n",
              "      <script>\n",
              "        const buttonEl =\n",
              "          document.querySelector('#df-5b1fe26c-f49b-4758-b982-79f4d5a04ac5 button.colab-df-convert');\n",
              "        buttonEl.style.display =\n",
              "          google.colab.kernel.accessAllowed ? 'block' : 'none';\n",
              "\n",
              "        async function convertToInteractive(key) {\n",
              "          const element = document.querySelector('#df-5b1fe26c-f49b-4758-b982-79f4d5a04ac5');\n",
              "          const dataTable =\n",
              "            await google.colab.kernel.invokeFunction('convertToInteractive',\n",
              "                                                     [key], {});\n",
              "          if (!dataTable) return;\n",
              "\n",
              "          const docLinkHtml = 'Like what you see? Visit the ' +\n",
              "            '<a target=\"_blank\" href=https://colab.research.google.com/notebooks/data_table.ipynb>data table notebook</a>'\n",
              "            + ' to learn more about interactive tables.';\n",
              "          element.innerHTML = '';\n",
              "          dataTable['output_type'] = 'display_data';\n",
              "          await google.colab.output.renderOutput(dataTable, element);\n",
              "          const docLink = document.createElement('div');\n",
              "          docLink.innerHTML = docLinkHtml;\n",
              "          element.appendChild(docLink);\n",
              "        }\n",
              "      </script>\n",
              "    </div>\n",
              "  </div>\n",
              "  "
            ],
            "text/plain": [
              "                                          image_link  \\\n",
              "0  https://i.pinimg.com/236x/d6/fa/05/d6fa05a7285...   \n",
              "1  https://i.pinimg.com/236x/53/7f/7a/537f7a51a39...   \n",
              "2  https://i.pinimg.com/236x/31/e6/e6/31e6e62befb...   \n",
              "3  https://i.pinimg.com/236x/15/5d/93/155d934d670...   \n",
              "4  https://i.pinimg.com/236x/e9/30/32/e93032193ac...   \n",
              "\n",
              "                                   image_description  \n",
              "0                          Golden sparkling water  ✨  \n",
              "1  Pop Fizz Clink | Natalie Grace Tatum | aesthet...  \n",
              "2  The Best Virgin Strawberry Daiquiri You'll Eve...  \n",
              "3                                   Easy Piña Colada  \n",
              "4                3-Ingredient Korean Strawberry Milk  "
            ]
          },
          "execution_count": 52,
          "metadata": {},
          "output_type": "execute_result"
        }
      ],
      "source": [
        "df.head()"
      ]
    },
    {
      "cell_type": "code",
      "execution_count": null,
      "metadata": {
        "colab": {
          "base_uri": "https://localhost:8080/"
        },
        "id": "d8r1s3SEZlTx",
        "outputId": "a21f52e6-5889-4e7e-c6e1-0ff0a2cd61ce"
      },
      "outputs": [
        {
          "name": "stderr",
          "output_type": "stream",
          "text": [
            "Downloading images: 100%|██████████| 1723/1723 [02:45<00:00, 10.41it/s]\n"
          ]
        }
      ],
      "source": [
        "urls = list(data.keys())\n",
        "for i in tqdm(range(len(urls)), desc = 'Downloading images'):\n",
        "  response = requests.get(urls[i])\n",
        "  filename = urls[i].split('/')[-1]\n",
        "\n",
        "  if response.status_code == 200:\n",
        "    with open('/content/images/' + filename, \"wb\") as image:\n",
        "      for chunk in response.iter_content(chunk_size=128):\n",
        "        image.write(chunk)"
      ]
    },
    {
      "cell_type": "code",
      "execution_count": null,
      "metadata": {
        "id": "tXELCN7WaDQk"
      },
      "outputs": [],
      "source": [
        "dataset = pd.DataFrame([(l.split('/')[-1], k) for l, k in data.items()], columns = ['id','description'])\n",
        "dataset['index'] = range(1, len(dataset) + 1)\n",
        "dataset.to_csv('dataset.csv')"
      ]
    },
    {
      "cell_type": "code",
      "execution_count": null,
      "metadata": {
        "id": "HLM9Ydp6dxBk"
      },
      "outputs": [],
      "source": [
        "!zip -r data.zip images dataset.csv"
      ]
    }
  ],
  "metadata": {
    "colab": {
      "collapsed_sections": [],
      "name": "Image-based semantic search-scraping data.ipynb",
      "provenance": []
    },
    "kernelspec": {
      "display_name": "Python 3.10.2 64-bit",
      "language": "python",
      "name": "python3"
    },
    "language_info": {
      "name": "python",
      "version": "3.10.2"
    },
    "vscode": {
      "interpreter": {
        "hash": "26de051ba29f2982a8de78e945f0abaf191376122a1563185a90213a26c5da77"
      }
    }
  },
  "nbformat": 4,
  "nbformat_minor": 0
}
