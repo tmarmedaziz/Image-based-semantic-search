{
 "cells": [
  {
   "cell_type": "code",
   "execution_count": 2,
   "metadata": {},
   "outputs": [
    {
     "name": "stdout",
     "output_type": "stream",
     "text": [
      "Defaulting to user installation because normal site-packages is not writeable\n",
      "Collecting ftfy\n",
      "  Downloading ftfy-6.1.1-py3-none-any.whl (53 kB)\n",
      "     -------------------------------------- 53.1/53.1 kB 393.2 kB/s eta 0:00:00\n",
      "Collecting regex\n",
      "  Downloading regex-2022.7.9-cp310-cp310-win_amd64.whl (262 kB)\n",
      "     ------------------------------------ 262.1/262.1 kB 848.0 kB/s eta 0:00:00\n",
      "Requirement already satisfied: tqdm in c:\\users\\moham\\appdata\\roaming\\python\\python310\\site-packages (4.64.0)\n",
      "Requirement already satisfied: wcwidth>=0.2.5 in c:\\users\\moham\\appdata\\roaming\\python\\python310\\site-packages (from ftfy) (0.2.5)\n",
      "Requirement already satisfied: colorama in c:\\users\\moham\\appdata\\roaming\\python\\python310\\site-packages (from tqdm) (0.4.4)\n",
      "Installing collected packages: regex, ftfy\n",
      "Successfully installed ftfy-6.1.1 regex-2022.7.9\n"
     ]
    },
    {
     "name": "stderr",
     "output_type": "stream",
     "text": [
      "  WARNING: The script ftfy.exe is installed in 'C:\\Users\\moham\\AppData\\Roaming\\Python\\Python310\\Scripts' which is not on PATH.\n",
      "  Consider adding this directory to PATH or, if you prefer to suppress this warning, use --no-warn-script-location.\n"
     ]
    }
   ],
   "source": [
    "!pip install ftfy regex tqdm"
   ]
  },
  {
   "cell_type": "code",
   "execution_count": 2,
   "metadata": {},
   "outputs": [
    {
     "name": "stdout",
     "output_type": "stream",
     "text": [
      "Collecting torchvision\n",
      "  Downloading torchvision-0.13.0-cp39-cp39-win_amd64.whl (1.1 MB)\n",
      "Requirement already satisfied: requests in c:\\users\\moham\\anaconda3\\lib\\site-packages (from torchvision) (2.26.0)\n",
      "Requirement already satisfied: pillow!=8.3.*,>=5.3.0 in c:\\users\\moham\\anaconda3\\lib\\site-packages (from torchvision) (8.4.0)\n",
      "Collecting torch==1.12.0\n",
      "  Downloading torch-1.12.0-cp39-cp39-win_amd64.whl (161.8 MB)\n",
      "Requirement already satisfied: numpy in c:\\users\\moham\\anaconda3\\lib\\site-packages (from torchvision) (1.20.3)\n",
      "Requirement already satisfied: typing-extensions in c:\\users\\moham\\anaconda3\\lib\\site-packages (from torchvision) (3.10.0.2)\n",
      "Requirement already satisfied: idna<4,>=2.5 in c:\\users\\moham\\anaconda3\\lib\\site-packages (from requests->torchvision) (3.2)\n",
      "Requirement already satisfied: certifi>=2017.4.17 in c:\\users\\moham\\anaconda3\\lib\\site-packages (from requests->torchvision) (2021.10.8)\n",
      "Requirement already satisfied: urllib3<1.27,>=1.21.1 in c:\\users\\moham\\anaconda3\\lib\\site-packages (from requests->torchvision) (1.26.7)\n",
      "Requirement already satisfied: charset-normalizer~=2.0.0 in c:\\users\\moham\\anaconda3\\lib\\site-packages (from requests->torchvision) (2.0.4)\n",
      "Installing collected packages: torch, torchvision\n",
      "Successfully installed torch-1.12.0 torchvision-0.13.0\n"
     ]
    }
   ],
   "source": [
    "!pip install torchvision"
   ]
  },
  {
   "cell_type": "code",
   "execution_count": 4,
   "metadata": {},
   "outputs": [
    {
     "name": "stdout",
     "output_type": "stream",
     "text": [
      "Collecting git+https://github.com/openai/CLIP.git\n",
      "  Cloning https://github.com/openai/CLIP.git to c:\\users\\moham\\appdata\\local\\temp\\pip-req-build-f26m_rpp\n",
      "  Resolved https://github.com/openai/CLIP.git to commit b46f5ac7587d2e1862f8b7b1573179d80dcdd620\n",
      "Collecting ftfy\n",
      "  Using cached ftfy-6.1.1-py3-none-any.whl (53 kB)\n",
      "Requirement already satisfied: regex in c:\\users\\moham\\anaconda3\\lib\\site-packages (from clip==1.0) (2021.8.3)\n",
      "Requirement already satisfied: tqdm in c:\\users\\moham\\anaconda3\\lib\\site-packages (from clip==1.0) (4.62.3)\n",
      "Requirement already satisfied: torch in c:\\users\\moham\\anaconda3\\lib\\site-packages (from clip==1.0) (1.12.0)\n",
      "Requirement already satisfied: torchvision in c:\\users\\moham\\anaconda3\\lib\\site-packages (from clip==1.0) (0.13.0)\n",
      "Requirement already satisfied: wcwidth>=0.2.5 in c:\\users\\moham\\appdata\\roaming\\python\\python39\\site-packages (from ftfy->clip==1.0) (0.2.5)\n",
      "Requirement already satisfied: typing-extensions in c:\\users\\moham\\anaconda3\\lib\\site-packages (from torch->clip==1.0) (3.10.0.2)\n",
      "Requirement already satisfied: pillow!=8.3.*,>=5.3.0 in c:\\users\\moham\\anaconda3\\lib\\site-packages (from torchvision->clip==1.0) (8.4.0)\n",
      "Requirement already satisfied: numpy in c:\\users\\moham\\anaconda3\\lib\\site-packages (from torchvision->clip==1.0) (1.20.3)\n",
      "Requirement already satisfied: requests in c:\\users\\moham\\anaconda3\\lib\\site-packages (from torchvision->clip==1.0) (2.26.0)\n",
      "Requirement already satisfied: certifi>=2017.4.17 in c:\\users\\moham\\anaconda3\\lib\\site-packages (from requests->torchvision->clip==1.0) (2021.10.8)\n",
      "Requirement already satisfied: urllib3<1.27,>=1.21.1 in c:\\users\\moham\\anaconda3\\lib\\site-packages (from requests->torchvision->clip==1.0) (1.26.7)\n",
      "Requirement already satisfied: idna<4,>=2.5 in c:\\users\\moham\\anaconda3\\lib\\site-packages (from requests->torchvision->clip==1.0) (3.2)\n",
      "Requirement already satisfied: charset-normalizer~=2.0.0 in c:\\users\\moham\\anaconda3\\lib\\site-packages (from requests->torchvision->clip==1.0) (2.0.4)\n",
      "Requirement already satisfied: colorama in c:\\users\\moham\\appdata\\roaming\\python\\python39\\site-packages (from tqdm->clip==1.0) (0.4.4)\n",
      "Building wheels for collected packages: clip\n",
      "  Building wheel for clip (setup.py): started\n",
      "  Building wheel for clip (setup.py): finished with status 'done'\n",
      "  Created wheel for clip: filename=clip-1.0-py3-none-any.whl size=1369454 sha256=bc0a63394abbfee2ff143c056673a6df2b0d3b9e7f0ceaea57c42d27068972d0\n",
      "  Stored in directory: C:\\Users\\moham\\AppData\\Local\\Temp\\pip-ephem-wheel-cache-__o_ekhx\\wheels\\c8\\e4\\e1\\11374c111387672fc2068dfbe0d4b424cb9cdd1b2e184a71b5\n",
      "Successfully built clip\n",
      "Installing collected packages: ftfy, clip\n",
      "Successfully installed clip-1.0 ftfy-6.1.1\n"
     ]
    },
    {
     "name": "stderr",
     "output_type": "stream",
     "text": [
      "  Running command git clone -q https://github.com/openai/CLIP.git 'C:\\Users\\moham\\AppData\\Local\\Temp\\pip-req-build-f26m_rpp'\n"
     ]
    }
   ],
   "source": [
    "!pip install git+https://github.com/openai/CLIP.git"
   ]
  },
  {
   "cell_type": "code",
   "execution_count": 43,
   "metadata": {},
   "outputs": [],
   "source": [
    "import clip\n",
    "import torch\n",
    "from PIL import Image\n",
    "\n",
    "# Load the open CLIP model\n",
    "device = \"cuda\" if torch.cuda.is_available() else \"cpu\"\n",
    "model, preprocess = clip.load(\"ViT-B/32\", device=device)\n",
    "\n",
    "# Function that computes the feature vectors for a batch of images\n",
    "def compute_clip_features(photos_batch):\n",
    "    # Load all the photos from the files\n",
    "    photos = [Image.open(photo_file) for photo_file in photos_batch]\n",
    "    \n",
    "    # Preprocess all photos\n",
    "    photos_preprocessed = torch.stack([preprocess(photo) for photo in photos]).to(device)\n",
    "\n",
    "    with torch.no_grad():\n",
    "        # Encode the photos batch to compute the feature vectors and normalize them\n",
    "        photos_features = model.encode_image(photos_preprocessed)\n",
    "        photos_features /= photos_features.norm(dim=-1, keepdim=True)\n",
    "\n",
    "    # Transfer the feature vectors back to the CPU and convert to numpy\n",
    "    return photos_features.cpu().numpy()"
   ]
  },
  {
   "cell_type": "code",
   "execution_count": 47,
   "metadata": {},
   "outputs": [
    {
     "name": "stdout",
     "output_type": "stream",
     "text": [
      "Photos found: 311\n"
     ]
    }
   ],
   "source": [
    "from pathlib import Path\n",
    "import glob\n",
    "photos_path = Path(\"images\") \n",
    "\n",
    "photos_files = list(photos_path.glob(\"*.jpg\"))\n",
    "\n",
    "print(f\"Photos found: {len(photos_files)}\")"
   ]
  },
  {
   "cell_type": "code",
   "execution_count": 50,
   "metadata": {},
   "outputs": [
    {
     "name": "stdout",
     "output_type": "stream",
     "text": [
      "Processing batch 1/20\n",
      "Processing batch 2/20\n",
      "Processing batch 3/20\n",
      "Processing batch 4/20\n",
      "Processing batch 5/20\n",
      "Processing batch 6/20\n",
      "Processing batch 7/20\n",
      "Processing batch 8/20\n",
      "Processing batch 9/20\n",
      "Processing batch 10/20\n",
      "Processing batch 11/20\n",
      "Processing batch 12/20\n",
      "Processing batch 13/20\n",
      "Processing batch 14/20\n",
      "Processing batch 15/20\n",
      "Processing batch 16/20\n",
      "Processing batch 17/20\n",
      "Processing batch 18/20\n",
      "Processing batch 19/20\n",
      "Processing batch 20/20\n"
     ]
    }
   ],
   "source": [
    "import math\n",
    "import numpy as np\n",
    "import pandas as pd\n",
    "\n",
    "# Define the batch size so that it fits on your GPU. You can also do the processing on the CPU, but it will be slower.\n",
    "batch_size = 16\n",
    "\n",
    "# Path where the feature vectors will be stored\n",
    "features_path = Path(\"features\")\n",
    "\n",
    "# Compute how many batches are needed\n",
    "batches = math.ceil(len(photos_files) / batch_size)\n",
    "\n",
    "# Process each batch\n",
    "for i in range(batches):\n",
    "    print(f\"Processing batch {i+1}/{batches}\")\n",
    "\n",
    "   \n",
    "    batch_features_path = features_path / f\"{i:010d}.npy\"\n",
    "    \n",
    "    # Only do the processing if the batch wasn't processed yet\n",
    "    if not batch_features_path.exists():\n",
    "        try:\n",
    "            # Select the photos for the current batch\n",
    "            batch_files = photos_files[i*batch_size : (i+1)*batch_size]\n",
    "\n",
    "            # Compute the features and save to a numpy file\n",
    "            batch_features = compute_clip_features(batch_files)\n",
    "            np.save(batch_features_path, batch_features)\n",
    "\n",
    "        except:\n",
    "            # Catch problems with the processing to make the process more robust\n",
    "            print(f'Problem with batch {i}')"
   ]
  },
  {
   "cell_type": "code",
   "execution_count": 63,
   "metadata": {},
   "outputs": [],
   "source": [
    "import numpy as np\n",
    "\n",
    "# Load all numpy files\n",
    "features_list = [np.load(features_file) for features_file in sorted(features_path.glob(\"*.npy\"))]\n",
    "\n",
    "# Concatenate the features and store in a merged file\n",
    "features = np.concatenate(features_list)\n",
    "np.save(features_path / \"features.npy\", features)"
   ]
  },
  {
   "cell_type": "code",
   "execution_count": 76,
   "metadata": {},
   "outputs": [],
   "source": [
    "features_list = [feature for feature in features]"
   ]
  },
  {
   "cell_type": "code",
   "execution_count": 78,
   "metadata": {},
   "outputs": [],
   "source": [
    "df = pd.read_csv('dataset.csv')\n",
    "df['embedding_ViT-B/32'] = features_list\n",
    "df.to_csv('dataset.csv')"
   ]
  },
  {
   "cell_type": "code",
   "execution_count": 79,
   "metadata": {},
   "outputs": [
    {
     "data": {
      "text/html": [
       "<div>\n",
       "<style scoped>\n",
       "    .dataframe tbody tr th:only-of-type {\n",
       "        vertical-align: middle;\n",
       "    }\n",
       "\n",
       "    .dataframe tbody tr th {\n",
       "        vertical-align: top;\n",
       "    }\n",
       "\n",
       "    .dataframe thead th {\n",
       "        text-align: right;\n",
       "    }\n",
       "</style>\n",
       "<table border=\"1\" class=\"dataframe\">\n",
       "  <thead>\n",
       "    <tr style=\"text-align: right;\">\n",
       "      <th></th>\n",
       "      <th>Unnamed: 0</th>\n",
       "      <th>id</th>\n",
       "      <th>path</th>\n",
       "      <th>height</th>\n",
       "      <th>width</th>\n",
       "      <th>depth</th>\n",
       "      <th>description</th>\n",
       "      <th>embedding</th>\n",
       "    </tr>\n",
       "  </thead>\n",
       "  <tbody>\n",
       "    <tr>\n",
       "      <th>0</th>\n",
       "      <td>0</td>\n",
       "      <td>cdc6462c5fa6ce730e46a7c406859415.jpg</td>\n",
       "      <td>c:\\Users\\moham\\Image-Based_Semantic_Search\\Ima...</td>\n",
       "      <td>353</td>\n",
       "      <td>235</td>\n",
       "      <td>3</td>\n",
       "      <td>This refreshingly sweet watermelon lemonade is...</td>\n",
       "      <td>[-0.0531911, 0.038767003, 0.015213832, 0.04112...</td>\n",
       "    </tr>\n",
       "    <tr>\n",
       "      <th>1</th>\n",
       "      <td>1</td>\n",
       "      <td>537f7a51a396e79585c1fcce593a1a80.jpg</td>\n",
       "      <td>c:\\Users\\moham\\Image-Based_Semantic_Search\\Ima...</td>\n",
       "      <td>354</td>\n",
       "      <td>236</td>\n",
       "      <td>3</td>\n",
       "      <td>Recipe: Sparkling Strawberry Cucumber Mocktail</td>\n",
       "      <td>[0.012277477, 0.02332947, -0.018937917, -0.010...</td>\n",
       "    </tr>\n",
       "    <tr>\n",
       "      <th>2</th>\n",
       "      <td>2</td>\n",
       "      <td>72c21d9bedadc9a9f6c70847ab5a1b75--blueberry-mo...</td>\n",
       "      <td>c:\\Users\\moham\\Image-Based_Semantic_Search\\Ima...</td>\n",
       "      <td>354</td>\n",
       "      <td>236</td>\n",
       "      <td>3</td>\n",
       "      <td>Blueberries are delicious and CHEAP in the sum...</td>\n",
       "      <td>[-0.013041987, 0.038087178, -0.018034117, 0.01...</td>\n",
       "    </tr>\n",
       "    <tr>\n",
       "      <th>3</th>\n",
       "      <td>3</td>\n",
       "      <td>31e6e62befb47cbdfa286382503bd19a.jpg</td>\n",
       "      <td>c:\\Users\\moham\\Image-Based_Semantic_Search\\Ima...</td>\n",
       "      <td>354</td>\n",
       "      <td>236</td>\n",
       "      <td>3</td>\n",
       "      <td>The Best Virgin Strawberry Daiquiri You’ll Eve...</td>\n",
       "      <td>[-0.031444285, 0.024132702, 0.013687381, -0.05...</td>\n",
       "    </tr>\n",
       "    <tr>\n",
       "      <th>4</th>\n",
       "      <td>4</td>\n",
       "      <td>f85c2e7e8bb4fcf2e9f6ab83fcd57012.jpg</td>\n",
       "      <td>c:\\Users\\moham\\Image-Based_Semantic_Search\\Ima...</td>\n",
       "      <td>471</td>\n",
       "      <td>236</td>\n",
       "      <td>3</td>\n",
       "      <td>Easy Keto Mojito</td>\n",
       "      <td>[0.012401241, 0.03374445, -0.0057490175, 0.014...</td>\n",
       "    </tr>\n",
       "  </tbody>\n",
       "</table>\n",
       "</div>"
      ],
      "text/plain": [
       "   Unnamed: 0                                                 id  \\\n",
       "0           0               cdc6462c5fa6ce730e46a7c406859415.jpg   \n",
       "1           1               537f7a51a396e79585c1fcce593a1a80.jpg   \n",
       "2           2  72c21d9bedadc9a9f6c70847ab5a1b75--blueberry-mo...   \n",
       "3           3               31e6e62befb47cbdfa286382503bd19a.jpg   \n",
       "4           4               f85c2e7e8bb4fcf2e9f6ab83fcd57012.jpg   \n",
       "\n",
       "                                                path  height  width  depth  \\\n",
       "0  c:\\Users\\moham\\Image-Based_Semantic_Search\\Ima...     353    235      3   \n",
       "1  c:\\Users\\moham\\Image-Based_Semantic_Search\\Ima...     354    236      3   \n",
       "2  c:\\Users\\moham\\Image-Based_Semantic_Search\\Ima...     354    236      3   \n",
       "3  c:\\Users\\moham\\Image-Based_Semantic_Search\\Ima...     354    236      3   \n",
       "4  c:\\Users\\moham\\Image-Based_Semantic_Search\\Ima...     471    236      3   \n",
       "\n",
       "                                         description  \\\n",
       "0  This refreshingly sweet watermelon lemonade is...   \n",
       "1     Recipe: Sparkling Strawberry Cucumber Mocktail   \n",
       "2  Blueberries are delicious and CHEAP in the sum...   \n",
       "3  The Best Virgin Strawberry Daiquiri You’ll Eve...   \n",
       "4                                   Easy Keto Mojito   \n",
       "\n",
       "                                           embedding  \n",
       "0  [-0.0531911, 0.038767003, 0.015213832, 0.04112...  \n",
       "1  [0.012277477, 0.02332947, -0.018937917, -0.010...  \n",
       "2  [-0.013041987, 0.038087178, -0.018034117, 0.01...  \n",
       "3  [-0.031444285, 0.024132702, 0.013687381, -0.05...  \n",
       "4  [0.012401241, 0.03374445, -0.0057490175, 0.014...  "
      ]
     },
     "execution_count": 79,
     "metadata": {},
     "output_type": "execute_result"
    }
   ],
   "source": [
    "df.head()"
   ]
  },
  {
   "cell_type": "code",
   "execution_count": 84,
   "metadata": {},
   "outputs": [],
   "source": [
    "from numpy import dot\n",
    "from numpy.linalg import norm\n",
    "def cosine_similarity(a, b):\n",
    "    return dot(a, b)/(norm(a)*norm(b))"
   ]
  },
  {
   "cell_type": "code",
   "execution_count": 113,
   "metadata": {},
   "outputs": [
    {
     "name": "stdout",
     "output_type": "stream",
     "text": [
      "(0, 0.3578525)\n"
     ]
    }
   ],
   "source": [
    "from PIL import Image\n",
    "img = Image.open(r\"C:\\Users\\moham\\Downloads\\soda.jfif\")\n",
    "photo_preprocessed = preprocess(img).unsqueeze(0).to(device)\n",
    "\n",
    "\n",
    "with torch.no_grad():\n",
    "    # Encode the photos batch to compute the feature vectors and normalize them\n",
    "    photo_features = model.encode_image(photo_preprocessed)\n",
    "    photo_features /= photo_features.norm(dim=-1, keepdim=True)\n",
    "\n",
    "max = 0, cosine_similarity(features_list[0], photo_features.numpy()[0])\n",
    "print(max)\n",
    "for i, feature in enumerate(features_list):\n",
    "    if cosine_similarity(feature, photo_features.numpy()[0]) > max[1]:\n",
    "        max = i, cosine_similarity(feature, photo_features.numpy()[0])\n"
   ]
  },
  {
   "cell_type": "code",
   "execution_count": 114,
   "metadata": {},
   "outputs": [
    {
     "name": "stdout",
     "output_type": "stream",
     "text": [
      "(239, 0.7819175)\n"
     ]
    }
   ],
   "source": [
    "print(max)"
   ]
  },
  {
   "cell_type": "code",
   "execution_count": 2,
   "metadata": {},
   "outputs": [
    {
     "ename": "NameError",
     "evalue": "name 'Path' is not defined",
     "output_type": "error",
     "traceback": [
      "\u001b[1;31m---------------------------------------------------------------------------\u001b[0m",
      "\u001b[1;31mNameError\u001b[0m                                 Traceback (most recent call last)",
      "\u001b[1;32mUntitled-1.ipynb Cellule 14\u001b[0m in \u001b[0;36m<cell line: 1>\u001b[1;34m()\u001b[0m\n\u001b[1;32m----> <a href='vscode-notebook-cell:Untitled-1.ipynb?jupyter-notebook#ch0000008untitled?line=0'>1</a>\u001b[0m Path(\u001b[39m'\u001b[39m\u001b[39mimages\u001b[39m\u001b[39m'\u001b[39m)\u001b[39m/\u001b[39mdf\u001b[39m.\u001b[39miloc[\u001b[39m239\u001b[39m][\u001b[39m'\u001b[39m\u001b[39mid\u001b[39m\u001b[39m'\u001b[39m]\n",
      "\u001b[1;31mNameError\u001b[0m: name 'Path' is not defined"
     ]
    }
   ],
   "source": [
    "Path('images')/df.iloc[239]['id']"
   ]
  },
  {
   "cell_type": "code",
   "execution_count": 35,
   "metadata": {},
   "outputs": [
    {
     "data": {
      "text/plain": [
       "'BarChick'"
      ]
     },
     "execution_count": 35,
     "metadata": {},
     "output_type": "execute_result"
    }
   ],
   "source": [
    "d[probs.argmax()]"
   ]
  },
  {
   "cell_type": "code",
   "execution_count": 94,
   "metadata": {},
   "outputs": [
    {
     "data": {
      "text/plain": [
       "['RN50',\n",
       " 'RN101',\n",
       " 'RN50x4',\n",
       " 'RN50x16',\n",
       " 'RN50x64',\n",
       " 'ViT-B/32',\n",
       " 'ViT-B/16',\n",
       " 'ViT-L/14',\n",
       " 'ViT-L/14@336px']"
      ]
     },
     "execution_count": 94,
     "metadata": {},
     "output_type": "execute_result"
    }
   ],
   "source": [
    "clip.available_models()"
   ]
  },
  {
   "cell_type": "code",
   "execution_count": null,
   "metadata": {},
   "outputs": [],
   "source": []
  }
 ],
 "metadata": {
  "kernelspec": {
   "display_name": "Python 3.9.7 ('base')",
   "language": "python",
   "name": "python3"
  },
  "language_info": {
   "codemirror_mode": {
    "name": "ipython",
    "version": 3
   },
   "file_extension": ".py",
   "mimetype": "text/x-python",
   "name": "python",
   "nbconvert_exporter": "python",
   "pygments_lexer": "ipython3",
   "version": "3.9.7"
  },
  "orig_nbformat": 4,
  "vscode": {
   "interpreter": {
    "hash": "dfe2e9041c24d5f91854bb9ffc35eacf9a6123f8e0fdaf39110ac9ad93cae24d"
   }
  }
 },
 "nbformat": 4,
 "nbformat_minor": 2
}
