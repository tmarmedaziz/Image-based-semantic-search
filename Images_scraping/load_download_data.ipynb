{
 "cells": [
  {
   "cell_type": "code",
   "execution_count": 2,
   "metadata": {},
   "outputs": [],
   "source": [
    "import pandas as pd"
   ]
  },
  {
   "cell_type": "code",
   "execution_count": 3,
   "metadata": {},
   "outputs": [],
   "source": [
    "df = pd.read_csv('scraped_data.csv')"
   ]
  },
  {
   "cell_type": "code",
   "execution_count": 5,
   "metadata": {},
   "outputs": [
    {
     "data": {
      "text/html": [
       "<div>\n",
       "<style scoped>\n",
       "    .dataframe tbody tr th:only-of-type {\n",
       "        vertical-align: middle;\n",
       "    }\n",
       "\n",
       "    .dataframe tbody tr th {\n",
       "        vertical-align: top;\n",
       "    }\n",
       "\n",
       "    .dataframe thead th {\n",
       "        text-align: right;\n",
       "    }\n",
       "</style>\n",
       "<table border=\"1\" class=\"dataframe\">\n",
       "  <thead>\n",
       "    <tr style=\"text-align: right;\">\n",
       "      <th></th>\n",
       "      <th>Unnamed: 0</th>\n",
       "      <th>image_link</th>\n",
       "      <th>images_description</th>\n",
       "    </tr>\n",
       "  </thead>\n",
       "  <tbody>\n",
       "    <tr>\n",
       "      <th>0</th>\n",
       "      <td>0</td>\n",
       "      <td>https://i.pinimg.com/236x/cd/c6/46/cdc6462c5fa...</td>\n",
       "      <td>This refreshingly sweet watermelon lemonade is...</td>\n",
       "    </tr>\n",
       "    <tr>\n",
       "      <th>1</th>\n",
       "      <td>1</td>\n",
       "      <td>https://i.pinimg.com/236x/53/7f/7a/537f7a51a39...</td>\n",
       "      <td>Recipe: Sparkling Strawberry Cucumber Mocktail</td>\n",
       "    </tr>\n",
       "    <tr>\n",
       "      <th>2</th>\n",
       "      <td>2</td>\n",
       "      <td>https://i.pinimg.com/236x/72/c2/1d/72c21d9beda...</td>\n",
       "      <td>Blueberries are delicious and CHEAP in the sum...</td>\n",
       "    </tr>\n",
       "    <tr>\n",
       "      <th>3</th>\n",
       "      <td>3</td>\n",
       "      <td>https://i.pinimg.com/236x/31/e6/e6/31e6e62befb...</td>\n",
       "      <td>The Best Virgin Strawberry Daiquiri You’ll Eve...</td>\n",
       "    </tr>\n",
       "    <tr>\n",
       "      <th>4</th>\n",
       "      <td>4</td>\n",
       "      <td>https://i.pinimg.com/236x/f8/5c/2e/f85c2e7e8bb...</td>\n",
       "      <td>Easy Keto Mojito</td>\n",
       "    </tr>\n",
       "  </tbody>\n",
       "</table>\n",
       "</div>"
      ],
      "text/plain": [
       "   Unnamed: 0                                         image_link  \\\n",
       "0           0  https://i.pinimg.com/236x/cd/c6/46/cdc6462c5fa...   \n",
       "1           1  https://i.pinimg.com/236x/53/7f/7a/537f7a51a39...   \n",
       "2           2  https://i.pinimg.com/236x/72/c2/1d/72c21d9beda...   \n",
       "3           3  https://i.pinimg.com/236x/31/e6/e6/31e6e62befb...   \n",
       "4           4  https://i.pinimg.com/236x/f8/5c/2e/f85c2e7e8bb...   \n",
       "\n",
       "                                  images_description  \n",
       "0  This refreshingly sweet watermelon lemonade is...  \n",
       "1     Recipe: Sparkling Strawberry Cucumber Mocktail  \n",
       "2  Blueberries are delicious and CHEAP in the sum...  \n",
       "3  The Best Virgin Strawberry Daiquiri You’ll Eve...  \n",
       "4                                   Easy Keto Mojito  "
      ]
     },
     "execution_count": 5,
     "metadata": {},
     "output_type": "execute_result"
    }
   ],
   "source": [
    "df.head()"
   ]
  },
  {
   "cell_type": "code",
   "execution_count": null,
   "metadata": {},
   "outputs": [],
   "source": []
  }
 ],
 "metadata": {
  "kernelspec": {
   "display_name": "Python 3.10.2 64-bit",
   "language": "python",
   "name": "python3"
  },
  "language_info": {
   "codemirror_mode": {
    "name": "ipython",
    "version": 3
   },
   "file_extension": ".py",
   "mimetype": "text/x-python",
   "name": "python",
   "nbconvert_exporter": "python",
   "pygments_lexer": "ipython3",
   "version": "3.10.2"
  },
  "orig_nbformat": 4,
  "vscode": {
   "interpreter": {
    "hash": "26de051ba29f2982a8de78e945f0abaf191376122a1563185a90213a26c5da77"
   }
  }
 },
 "nbformat": 4,
 "nbformat_minor": 2
}
